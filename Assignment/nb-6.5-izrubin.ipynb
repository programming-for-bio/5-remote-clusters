{
 "cells": [
  {
   "cell_type": "markdown",
   "metadata": {},
   "source": [
    "# Assignment\n",
    "\n",
    "-------------\n",
    "\n",
    "**1) Complete this notebook and make a pull request:** \n",
    "\n",
    "Answer questions (Q) in the space provided (A) in this notebook. When finished, copy your notebook to the `Assignment/` directory and name it `nb-6.5-<Github-username>.ipynb`. Then make a pull request to the upstream repo. The entered answers in this notebook will be simply Markdown text where I want you to interpret and describe a block of code to better understand what it is doing. Much of this code you will have seen already. \n",
    "\n",
    "\n",
    "**2) Write an importable Python package, save as a repo, and test it here.**\n",
    "\n",
    "The package should be written as we did in our last lession (`.py` files in a directory with a setup.py file so it can be installed with `pip`). Follow instructions at the end of this notebook for how to write your package. Test it here by importing the package and executing the code at the end. It should work and give correct answers, if not, continue working on it. When you have it completed save your package as a new Github repo named `seqlib`."
   ]
  },
  {
   "cell_type": "markdown",
   "metadata": {},
   "source": [
    "### The `seqlib` package\n",
    "\n",
    "Together we are going to write several functions here that will make up your new package called `seqlib`. It will be your job to copy these functions, organize them into a Class, save the code into a `.py` file (you can use SublimeText if you're comfortable with it for much of this, or any text editor including the one in jupyter), package the files so they can be imported as a library, and test the package so that it accomplishes the tasks which are defined at the end of this notebook. First things first, though, let's write the functions. "
   ]
  },
  {
   "cell_type": "code",
   "execution_count": 1,
   "metadata": {},
   "outputs": [],
   "source": [
    "import numpy as np\n",
    "import pandas as pd"
   ]
  },
  {
   "cell_type": "markdown",
   "metadata": {},
   "source": [
    "### Q.  Describe what the `mutate()` function below does:\n",
    "\n",
    "\n",
    "A. Remove the input base from the set of \"ACTG\" and then return a random base from the resulting set. This will return any base other than the one that was input."
   ]
  },
  {
   "cell_type": "code",
   "execution_count": 2,
   "metadata": {},
   "outputs": [],
   "source": [
    "def mutate(base):\n",
    "    diff = set(\"ACTG\") - set(base)\n",
    "    return np.random.choice(list(diff))"
   ]
  },
  {
   "cell_type": "code",
   "execution_count": 3,
   "metadata": {},
   "outputs": [
    {
     "data": {
      "text/plain": [
       "'C'"
      ]
     },
     "execution_count": 3,
     "metadata": {},
     "output_type": "execute_result"
    }
   ],
   "source": [
    "# test it\n",
    "mutate(\"A\")"
   ]
  },
  {
   "cell_type": "markdown",
   "metadata": {},
   "source": [
    "### Q. Describe how the `seqdata()` function below works:\n",
    "Annotate the code by inserting lines with comments as you read through the function to make sense of it. What is being created at each step and how is it used?\n",
    "\n",
    "\n",
    "A. See my lines with `#` below."
   ]
  },
  {
   "cell_type": "code",
   "execution_count": 4,
   "metadata": {},
   "outputs": [],
   "source": [
    "# create a function given two arguments (rows and columns) to simulate a DNA sequence\n",
    "def simulate(ninds, nsites):\n",
    "    \n",
    "    # define a random sequence of bases of nsites length\n",
    "    oseq = np.random.choice(list(\"ACGT\"), size=nsites)\n",
    "    \n",
    "    # create array with above-defined oseq by ninds number of columns\n",
    "    arr = np.array([oseq for i in range(ninds)])\n",
    "    \n",
    "    # create random mutation probabilities\n",
    "    muts = np.random.binomial(1, 0.1, (ninds, nsites))\n",
    "    \n",
    "    # iterate over each column\n",
    "    for col in range(nsites):\n",
    "        \n",
    "        # perform the mutate function\n",
    "        newbase = mutate(arr[0, col])\n",
    "        \n",
    "        # boolean mask to select by mutation probability\n",
    "        mask = muts[:, col].astype(bool)\n",
    "        \n",
    "        # assign the same mutation to successive iterations in the same column\n",
    "        arr[:, col][mask] = newbase\n",
    "        \n",
    "    # assign random probability for each point in the array\n",
    "    missing = np.random.binomial(1, 0.1, (ninds, nsites))\n",
    "    \n",
    "    # code \"missing\" data as \"N\"\n",
    "    arr[missing.astype(bool)] = \"N\"\n",
    "    \n",
    "    # return the array resulting from the above code\n",
    "    return arr"
   ]
  },
  {
   "cell_type": "code",
   "execution_count": 5,
   "metadata": {},
   "outputs": [
    {
     "name": "stdout",
     "output_type": "stream",
     "text": [
      "[['C' 'C' 'A' 'G' 'A' 'N' 'N' 'C' 'A' 'C' 'T' 'C' 'G' 'T' 'A']\n",
      " ['C' 'C' 'A' 'G' 'A' 'A' 'T' 'C' 'A' 'C' 'G' 'C' 'G' 'T' 'A']\n",
      " ['C' 'A' 'A' 'G' 'A' 'C' 'T' 'N' 'A' 'C' 'G' 'C' 'A' 'T' 'A']\n",
      " ['C' 'C' 'A' 'G' 'A' 'C' 'T' 'C' 'A' 'C' 'G' 'C' 'A' 'T' 'A']\n",
      " ['C' 'C' 'A' 'G' 'A' 'C' 'T' 'G' 'A' 'C' 'N' 'C' 'A' 'T' 'A']\n",
      " ['C' 'C' 'A' 'G' 'A' 'C' 'T' 'C' 'A' 'C' 'G' 'C' 'A' 'T' 'A']]\n"
     ]
    }
   ],
   "source": [
    "seqs = simulate(6, 15)\n",
    "print(seqs)"
   ]
  },
  {
   "cell_type": "markdown",
   "metadata": {},
   "source": [
    "### **Q: Describe how the `filter_missing` function works:**\n",
    "Annotate the code by inserting lines with comments as you read through the function to make sense of it. How does it find columns with missing (N) values in them? How might you mprove it?\n",
    "\n",
    "A. See my lines with `#` below."
   ]
  },
  {
   "cell_type": "code",
   "execution_count": 6,
   "metadata": {},
   "outputs": [],
   "source": [
    "# define a function given two arguments (an array and a maximum frequency)\n",
    "def filter_missing(arr, maxfreq):\n",
    "    \n",
    "    # define the frequency of missing values as the sum of the number of times that the array has \"N\" divided by the shape value\n",
    "    freqmissing = np.sum(arr == \"N\", axis=0) / arr.shape[0]\n",
    "    \n",
    "    # create an array with only the columns that have a frequency of missing values less than or equal to the input maximum frequency\n",
    "    # aka an array of only the columns with no missing data \n",
    "    return arr[:, freqmissing <= maxfreq]"
   ]
  },
  {
   "cell_type": "code",
   "execution_count": 7,
   "metadata": {},
   "outputs": [
    {
     "data": {
      "text/plain": [
       "array([['C', 'C', 'A', 'G', 'A', 'A', 'C', 'C', 'G', 'T', 'A'],\n",
       "       ['C', 'C', 'A', 'G', 'A', 'A', 'C', 'C', 'G', 'T', 'A'],\n",
       "       ['C', 'A', 'A', 'G', 'A', 'A', 'C', 'C', 'A', 'T', 'A'],\n",
       "       ['C', 'C', 'A', 'G', 'A', 'A', 'C', 'C', 'A', 'T', 'A'],\n",
       "       ['C', 'C', 'A', 'G', 'A', 'A', 'C', 'C', 'A', 'T', 'A'],\n",
       "       ['C', 'C', 'A', 'G', 'A', 'A', 'C', 'C', 'A', 'T', 'A']],\n",
       "      dtype='<U1')"
      ]
     },
     "execution_count": 7,
     "metadata": {},
     "output_type": "execute_result"
    }
   ],
   "source": [
    "filter_missing(seqs, 0.1)"
   ]
  },
  {
   "cell_type": "markdown",
   "metadata": {},
   "source": [
    "### **Q: Describe how the `filter_maf` function works:**\n",
    "Annotate the code by inserting lines with comments as you read through the function to make sense of it. How does it calculate minor allele frequencies? Why does it use copy?\n",
    "\n",
    "A. See my lines with `#` below."
   ]
  },
  {
   "cell_type": "code",
   "execution_count": 10,
   "metadata": {},
   "outputs": [],
   "source": [
    "# still unclear about this function\n",
    "def filter_maf(arr, minfreq):\n",
    "    \n",
    "    # calculate minor allele frequency\n",
    "    freqs = np.sum(arr != arr[0], axis=0) / arr.shape[0]\n",
    "    \n",
    "    #\n",
    "    maf = freqs.copy()\n",
    "    \n",
    "    #\n",
    "    maf[maf > 0.5] = 1 - maf[maf > 0.5]\n",
    "    \n",
    "    #\n",
    "    return arr[:, maf > minfreq]"
   ]
  },
  {
   "cell_type": "code",
   "execution_count": 11,
   "metadata": {
    "scrolled": true
   },
   "outputs": [
    {
     "data": {
      "text/plain": [
       "array([['C', 'N', 'N', 'C', 'T', 'G'],\n",
       "       ['C', 'A', 'T', 'C', 'G', 'G'],\n",
       "       ['A', 'C', 'T', 'N', 'G', 'A'],\n",
       "       ['C', 'C', 'T', 'C', 'G', 'A'],\n",
       "       ['C', 'C', 'T', 'G', 'N', 'A'],\n",
       "       ['C', 'C', 'T', 'C', 'G', 'A']], dtype='<U1')"
      ]
     },
     "execution_count": 11,
     "metadata": {},
     "output_type": "execute_result"
    }
   ],
   "source": [
    "filter_maf(seqs, 0.1)"
   ]
  },
  {
   "cell_type": "markdown",
   "metadata": {},
   "source": [
    "### Q: What order should these functions be applied, does it matter?\n",
    "\n",
    "A. The output is the same for both orders."
   ]
  },
  {
   "cell_type": "code",
   "execution_count": 12,
   "metadata": {},
   "outputs": [
    {
     "data": {
      "text/plain": [
       "array([['C', 'G'],\n",
       "       ['C', 'G'],\n",
       "       ['A', 'A'],\n",
       "       ['C', 'A'],\n",
       "       ['C', 'A'],\n",
       "       ['C', 'A']], dtype='<U1')"
      ]
     },
     "execution_count": 12,
     "metadata": {},
     "output_type": "execute_result"
    }
   ],
   "source": [
    "filter_missing(filter_maf(seqs, 0.1), 0.1)"
   ]
  },
  {
   "cell_type": "code",
   "execution_count": 13,
   "metadata": {},
   "outputs": [
    {
     "data": {
      "text/plain": [
       "array([['C', 'G'],\n",
       "       ['C', 'G'],\n",
       "       ['A', 'A'],\n",
       "       ['C', 'A'],\n",
       "       ['C', 'A'],\n",
       "       ['C', 'A']], dtype='<U1')"
      ]
     },
     "execution_count": 13,
     "metadata": {},
     "output_type": "execute_result"
    }
   ],
   "source": [
    "filter_maf(filter_missing(seqs, 0.1), 0.1)"
   ]
  },
  {
   "cell_type": "markdown",
   "metadata": {},
   "source": [
    "### Q: Describe how `calculate_statistics()` works\n",
    "\n",
    "\n",
    "A. `calculate_statistics()` uses numpy to generate statistical values and shape them into an array, and then uses panda to apply labels to display with the statistical values."
   ]
  },
  {
   "cell_type": "code",
   "execution_count": 14,
   "metadata": {},
   "outputs": [],
   "source": [
    "def calculcate_statistics(arr):\n",
    "    nd = np.var(arr == arr[0], axis=0).mean()\n",
    "    mf = np.mean(np.sum(arr != arr[0], axis=0) / arr.shape[0])\n",
    "    inv = np.any(arr != arr[0], axis=0).sum()\n",
    "    var = arr.shape[1] - inv\n",
    "    return pd.Series(\n",
    "        {\"mean nucleotide diversity\": nd,\n",
    "         \"mean minor allele frequency\": mf,\n",
    "         \"invariant sites\": inv,\n",
    "         \"variable sites\": var,\n",
    "        })"
   ]
  },
  {
   "cell_type": "code",
   "execution_count": 15,
   "metadata": {},
   "outputs": [
    {
     "data": {
      "text/plain": [
       "invariant sites                6.000000\n",
       "mean minor allele frequency    0.244444\n",
       "mean nucleotide diversity      0.066667\n",
       "variable sites                 9.000000\n",
       "dtype: float64"
      ]
     },
     "execution_count": 15,
     "metadata": {},
     "output_type": "execute_result"
    }
   ],
   "source": [
    "calculcate_statistics(seqs)"
   ]
  },
  {
   "cell_type": "markdown",
   "metadata": {},
   "source": [
    "### Instructions: Write a `seqlib` Class object\n",
    "\n",
    "I started writing the bare bones of it below. You should write it so that it can be executed as described below to perform all of the functions we defined above, and so that its attributes can be accessed. Save this class object in a `.py` file and make it into an importable package called `seqlib`. You can write and test your object in this notebook if you like, but it must be saved separately in a `.py` file and be imported. You cannot execute the code at the end using your object defined here in the notebook. When finished save your package to GitHub as a repo just like we did with the `helloworld` package. You do not need to write a CLI script like we did for the `helloworld` package, we will only be using the Python API here. See the examples below for **how you should write your Class object**. It should be able to run in the way written below, so look at that code and think about how you would write a Class object that can do that. \n",
    "\n",
    "While you can mostly copy the functions from above, you will need to modify them slightly to access information about the Class object using *self*. For example, the `simulate()` function below takes self as a first argument and can access `self.inds` and `self.nsites` from that, so we do not need to provide those as arguments to the `simulate` function like we did above. "
   ]
  },
  {
   "cell_type": "code",
   "execution_count": 16,
   "metadata": {},
   "outputs": [],
   "source": [
    "class Seqlib:\n",
    "    \"\"\"\n",
    "    A seqlib object for class.\n",
    "    \"\"\"\n",
    "    def __init__(self, ninds, nsites):\n",
    "        \n",
    "        # generate full sequence array\n",
    "        self.ninds = ninds\n",
    "        self.nsites = nsites\n",
    "        self.seqs = self.simulate()\n",
    "        \n",
    "        # store maf of the full seq array\n",
    "        self.maf = self._get_maf()\n",
    "    \n",
    "    # private functions used only during init\n",
    "    def mutate(self, base):\n",
    "        \"converts a base to another base\"\n",
    "        diff = set(\"ACTG\") - set(base)\n",
    "        return np.random.choice(list(diff))\n",
    "        \n",
    "    def simulate(self):\n",
    "        \"create a random array of DNA bases with mutations\"    \n",
    "        oseq = np.random.choice(list(\"ACGT\"), size=self.nsites)\n",
    "        arr = np.array([oseq for i in range(self.ninds)])\n",
    "        muts = np.random.binomial(1, 0.1, (self.ninds, self.nsites))\n",
    "        for col in range(self.nsites):\n",
    "            newbase = self._mutate(arr[0, col])\n",
    "            mask = muts[:, col].astype(bool)\n",
    "            arr[:, col][mask] = newbase\n",
    "        missing = np.random.binomial(1, 0.1, (self.ninds, self.nsites))\n",
    "        arr[missing.astype(bool)] = \"N\"\n",
    "        return arr\n",
    "    \n",
    "    def _get_maf(self):\n",
    "        \"returns the maf of the full seqarray while not counting Ns\"\n",
    "        # init an array to fill and iterate over columns\n",
    "        maf = np.zeros(self.nsites)\n",
    "        for col in range(self.nsites):\n",
    "            # select this column of bases\n",
    "            thiscol = self.seqs[:, col]\n",
    "\n",
    "            # mask \"N\" bases and get new length\n",
    "            nmask = thiscol != \"N\"\n",
    "            no_n_len = np.sum(nmask)\n",
    "\n",
    "            # mask \"N\" bases and get the first base\n",
    "            first_non_n_base = thiscol[nmask][0]\n",
    "\n",
    "            # calculate maf of \"N\" masked bases\n",
    "            freq = np.sum(thiscol[nmask] != first_non_n_base) / no_n_len\n",
    "            if freq > 0.5:\n",
    "                maf[col] = 1 - freq\n",
    "            else:\n",
    "                maf[col] = freq\n",
    "        return maf\n",
    "        \n",
    "    def _get_maf(self):\n",
    "        \"returns the maf of the full seqarray while not counting Ns\"\n",
    "        # init an array to fill and iterate over columns\n",
    "        maf = np.zeros(self.nsites)\n",
    "        for col in range(self.nsites):\n",
    "            # select this column of bases\n",
    "            thiscol = self.seqs[:, col]\n",
    "\n",
    "            # mask \"N\" bases and get new length\n",
    "            nmask = thiscol != \"N\"\n",
    "            no_n_len = np.sum(nmask)\n",
    "\n",
    "            # mask \"N\" bases and get the first base\n",
    "            first_non_n_base = thiscol[nmask][0]\n",
    "\n",
    "            # calculate maf of \"N\" masked bases\n",
    "            freq = np.sum(thiscol[nmask] != first_non_n_base) / no_n_len\n",
    "            if freq > 0.5:\n",
    "                maf[col] = 1 - freq\n",
    "            else:\n",
    "                maf[col] = freq\n",
    "        return maf    \n",
    "\n",
    "    # private functions that are called within other functions\n",
    "    def _filter_missing(self, maxmissing):\n",
    "        \"returns a boolean filter True for columns with Ns > maxmissing\"\n",
    "        freqmissing = np.sum(self.seqs == \"N\", axis=0) / self.seqs.shape[0]\n",
    "        return freqmissing > maxmissing\n",
    "\n",
    "    def _filter_maf(self, minmaf):\n",
    "        \"returns a boolean filter True for columns with maf < minmaf\"\n",
    "        return self.maf < minmaf\n",
    "\n",
    "    # public functions\n",
    "    def filter(self, minmaf, maxmissing):\n",
    "        \"\"\"\n",
    "        Applies maf and missing filters to the array\n",
    "        Parameters\n",
    "        ----------\n",
    "        minmaf: float\n",
    "            The minimum minor allele frequency. Filter columns below this.\n",
    "        maxmissing: float\n",
    "            The maximum prop. missing data. Filter columns with prop Ns > this.\n",
    "        \"\"\"\n",
    "        filter1 = self._filter_maf(minmaf)\n",
    "        filter2 = self._filter_missing(maxmissing)\n",
    "        fullfilter = filter1 + filter2\n",
    "        return self.seqs[:, np.invert(fullfilter)]\n",
    "\n",
    "    def filter_seqlib(self, minmaf, maxmissing):\n",
    "        \"\"\"\n",
    "        Applies maf and missing filters to the array and returns a copy\n",
    "        of the seqlib object where the .seqs array has been filtered\n",
    "        Parameters\n",
    "        ----------\n",
    "        minmaf: float\n",
    "            The minimum minor allele frequency. Filter columns below this.\n",
    "        maxmissing: float\n",
    "            The maximum prop. missing data. Filter columns with prop Ns > this.\n",
    "        \"\"\"\n",
    "        # apply filters to get new array size\n",
    "        newseqs = self.filter(minmaf, maxmissing)\n",
    "\n",
    "        # make a new copy of the seqlib object\n",
    "        newself = copy.deepcopy(self)  \n",
    "        newself.__init__(newseqs.shape[0], newseqs.shape[1])\n",
    "\n",
    "        # store the array (overwrite it)\n",
    "        newself.seqs = newseqs\n",
    "\n",
    "        # call the _get_maf to match new array\n",
    "        newself._get_maf()\n",
    "        return newself\n",
    "\n",
    "    def calculate_statistics(self):\n",
    "        \"\"\"\n",
    "        Returns a dataframe of statistics on the seqs array. The earlier\n",
    "        example from the notebook had a bug where var and inv were switched.\n",
    "        \"\"\"\n",
    "        if self.seqs.size:\n",
    "            nd = np.var(self.seqs == self.seqs[0], axis=0).mean()\n",
    "            mf = np.mean(\n",
    "                np.sum(self.seqs != self.seqs[0], axis=0) / self.seqs.shape[0])\n",
    "            inv = np.all(self.seqs == self.seqs[0], axis=0).sum()\n",
    "            var = self.seqs.shape[1] - inv\n",
    "            return pd.Series(\n",
    "                {\"mean nucleotide diversity\": nd,\n",
    "                 \"mean minor allele frequency\": mf,\n",
    "                 \"invariant sites\": inv,\n",
    "                 \"variable sites\": var,\n",
    "                 })\n",
    "        else:\n",
    "            print(\"seqs array is empty\")\n"
   ]
  },
  {
   "cell_type": "markdown",
   "metadata": {},
   "source": [
    "## Test your package\n",
    "The package should be globally importable (you ran `pip install .` or `pip install -e .` to install it), and it should be able to execute the following code without error. "
   ]
  },
  {
   "cell_type": "code",
   "execution_count": 17,
   "metadata": {},
   "outputs": [],
   "source": [
    "import seqlib"
   ]
  },
  {
   "cell_type": "code",
   "execution_count": 18,
   "metadata": {},
   "outputs": [],
   "source": [
    "# init a Seqlib Class object\n",
    "seqs = seqlib.Seqlib(ninds=10, nsites=50)"
   ]
  },
  {
   "cell_type": "code",
   "execution_count": 19,
   "metadata": {},
   "outputs": [
    {
     "name": "stdout",
     "output_type": "stream",
     "text": [
      "10 50\n"
     ]
    }
   ],
   "source": [
    "# access attributes from the object\n",
    "print(seqs.ninds, seqs.nsites)"
   ]
  },
  {
   "cell_type": "code",
   "execution_count": 20,
   "metadata": {},
   "outputs": [
    {
     "data": {
      "text/plain": [
       "array([0.1       , 0.        , 0.        , 0.11111111, 0.        ,\n",
       "       0.11111111, 0.125     , 0.11111111, 0.1       , 0.2       ,\n",
       "       0.        , 0.2       , 0.1       , 0.11111111, 0.11111111,\n",
       "       0.125     , 0.        , 0.        , 0.1       , 0.22222222,\n",
       "       0.11111111, 0.1       , 0.14285714, 0.125     , 0.1       ,\n",
       "       0.125     , 0.        , 0.        , 0.        , 0.25      ,\n",
       "       0.        , 0.        , 0.22222222, 0.11111111, 0.11111111,\n",
       "       0.        , 0.        , 0.        , 0.28571429, 0.2       ,\n",
       "       0.        , 0.1       , 0.375     , 0.        , 0.11111111,\n",
       "       0.1       , 0.125     , 0.11111111, 0.22222222, 0.2       ])"
      ]
     },
     "execution_count": 20,
     "metadata": {},
     "output_type": "execute_result"
    }
   ],
   "source": [
    "# returns the MAF of the array as an array of floats\n",
    "seqs.maf"
   ]
  },
  {
   "cell_type": "code",
   "execution_count": 21,
   "metadata": {},
   "outputs": [
    {
     "data": {
      "text/plain": [
       "array([['G', 'T', 'G', 'G', 'T', 'A', 'C', 'C', 'C', 'T', 'A'],\n",
       "       ['G', 'T', 'G', 'G', 'T', 'A', 'C', 'C', 'C', 'T', 'C'],\n",
       "       ['G', 'T', 'T', 'G', 'T', 'A', 'C', 'C', 'C', 'T', 'A'],\n",
       "       ['G', 'T', 'G', 'A', 'T', 'A', 'A', 'T', 'A', 'T', 'A'],\n",
       "       ['G', 'T', 'G', 'A', 'T', 'A', 'C', 'C', 'C', 'T', 'A'],\n",
       "       ['C', 'T', 'G', 'G', 'T', 'C', 'C', 'C', 'C', 'G', 'A'],\n",
       "       ['G', 'T', 'G', 'G', 'T', 'A', 'C', 'C', 'C', 'T', 'C'],\n",
       "       ['G', 'T', 'T', 'G', 'T', 'A', 'C', 'C', 'C', 'T', 'A'],\n",
       "       ['G', 'T', 'G', 'G', 'C', 'A', 'C', 'T', 'C', 'T', 'A'],\n",
       "       ['G', 'C', 'G', 'G', 'T', 'A', 'C', 'C', 'C', 'T', 'A']],\n",
       "      dtype='<U1')"
      ]
     },
     "execution_count": 21,
     "metadata": {},
     "output_type": "execute_result"
    }
   ],
   "source": [
    "# return a view of the filtered sequence array by applying a new function \n",
    "# called `filter()` that applies both the maf and missing filter functions\n",
    "seqs.filter(minmaf=0.1, maxmissing=0.0)"
   ]
  },
  {
   "cell_type": "code",
   "execution_count": 22,
   "metadata": {},
   "outputs": [
    {
     "data": {
      "text/plain": [
       "invariant sites                 3.0000\n",
       "mean minor allele frequency     0.2800\n",
       "mean nucleotide diversity       0.1336\n",
       "variable sites                 47.0000\n",
       "dtype: float64"
      ]
     },
     "execution_count": 22,
     "metadata": {},
     "output_type": "execute_result"
    }
   ],
   "source": [
    "# calculate statistics for an array with the results returned as a DataFrame\n",
    "seqs.calculate_statistics()"
   ]
  },
  {
   "cell_type": "code",
   "execution_count": 27,
   "metadata": {},
   "outputs": [
    {
     "data": {
      "text/plain": [
       "invariant sites                 0.000000\n",
       "mean minor allele frequency     0.136364\n",
       "mean nucleotide diversity       0.115455\n",
       "variable sites                 11.000000\n",
       "dtype: float64"
      ]
     },
     "execution_count": 27,
     "metadata": {},
     "output_type": "execute_result"
    }
   ],
   "source": [
    "# calculate statistics for an array after filtering it\n",
    "seqs.filter_seqlib(minmaf=0.1, maxmissing=0.0).calculate_statistics()"
   ]
  }
 ],
 "metadata": {
  "kernelspec": {
   "display_name": "Python 3",
   "language": "python",
   "name": "python3"
  },
  "language_info": {
   "codemirror_mode": {
    "name": "ipython",
    "version": 3
   },
   "file_extension": ".py",
   "mimetype": "text/x-python",
   "name": "python",
   "nbconvert_exporter": "python",
   "pygments_lexer": "ipython3",
   "version": "3.6.5"
  }
 },
 "nbformat": 4,
 "nbformat_minor": 2
}
