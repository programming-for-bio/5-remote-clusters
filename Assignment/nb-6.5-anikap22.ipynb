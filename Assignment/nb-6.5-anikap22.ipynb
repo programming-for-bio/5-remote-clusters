{
 "cells": [
  {
   "cell_type": "markdown",
   "metadata": {},
   "source": [
    "# Assignment\n",
    "\n",
    "-------------\n",
    "\n",
    "**1) Complete this notebook and make a pull request:** \n",
    "\n",
    "Answer questions (Q) in the space provided (A) in this notebook. When finished, copy your notebook to the `Assignment/` directory and name it `nb-6.5-<Github-username>.ipynb`. Then make a pull request to the upstream repo. The entered answers in this notebook will be simply Markdown text where I want you to interpret and describe a block of code to better understand what it is doing. Much of this code you will have seen already. \n",
    "\n",
    "\n",
    "**2) Write an importable Python package, save as a repo, and test it here.**\n",
    "\n",
    "The package should be written as we did in our last lession (`.py` files in a directory with a setup.py file so it can be installed with `pip`). Follow instructions at the end of this notebook for how to write your package. Test it here by importing the package and executing the code at the end. It should work and give correct answers, if not, continue working on it. When you have it completed save your package as a new Github repo named `seqlib`."
   ]
  },
  {
   "cell_type": "markdown",
   "metadata": {},
   "source": [
    "### The `seqlib` package\n",
    "\n",
    "Together we are going to write several functions here that will make up your new package called `seqlib`. It will be your job to copy these functions, organize them into a Class, save the code into a `.py` file (you can use SublimeText if you're comfortable with it for much of this, or any text editor including the one in jupyter), package the files so they can be imported as a library, and test the package so that it accomplishes the tasks which are defined at the end of this notebook. First things first, though, let's write the functions. "
   ]
  },
  {
   "cell_type": "code",
   "execution_count": 1,
   "metadata": {},
   "outputs": [],
   "source": [
    "import numpy as np\n",
    "import pandas as pd"
   ]
  },
  {
   "cell_type": "markdown",
   "metadata": {},
   "source": [
    "### Q.  Describe what the `mutate()` function below does:\n",
    "\n",
    "\n",
    "A. "
   ]
  },
  {
   "cell_type": "code",
   "execution_count": 2,
   "metadata": {},
   "outputs": [],
   "source": [
    "def mutate(base):\n",
    "    diff = set(\"ACTG\") - set(base)\n",
    "    return np.random.choice(list(diff))"
   ]
  },
  {
   "cell_type": "code",
   "execution_count": 3,
   "metadata": {},
   "outputs": [
    {
     "data": {
      "text/plain": [
       "'T'"
      ]
     },
     "execution_count": 3,
     "metadata": {},
     "output_type": "execute_result"
    }
   ],
   "source": [
    "# test it\n",
    "mutate(\"A\")"
   ]
  },
  {
   "cell_type": "markdown",
   "metadata": {},
   "source": [
    "### Q. Describe how the `seqdata()` function below works:\n",
    "Annotate the code by inserting lines with comments as you read through the function to make sense of it. What is being created at each step and how is it used?\n",
    "\n",
    "\n",
    "A. The function takes a number of indices and number of sites to generate a random sequence and the mutations through time at each point in the sequence. Line 1 defines the function. Line 2 creates the initial random sequence by selecting a number (nsites) of bases. Line 3 make a number (ninds) of copies of the sequence generated in line 2. Line 4 generates a binomial distribution of 1s and 0s where there is 0.1 chance of getting a 1 to indicate the positions where mutations should occur. Python stores this as an array. Lines 5-8 are a for loop that iterates over the sites, converts the 0/1 array into a false/true mask, and goes through the array changing the bases where the mask is true to a new base. Line 9 generates a binomial array that matches the dimensions of the array of sequences. Line 10 assigns the value N to the 1s in the array from line 9. Then Line 11 returns the array\n",
    "\n",
    "What is being created? Line 1 (function), line 2 (sequence), line 3 (array), line 4 (array), line 5 (initializing for loop), line 6 (single character value), line 7 (array), line 8 (array), line 9 (array), line 10 (array)"
   ]
  },
  {
   "cell_type": "code",
   "execution_count": 44,
   "metadata": {},
   "outputs": [],
   "source": [
    "# define simulate function to simulate sequences and mutations\n",
    "def simulate(ninds, nsites):\n",
    "    # create initial random sequence of length nsites\n",
    "    oseq = np.random.choice(list(\"ACGT\"), size=nsites)\n",
    "    # define an array copying the sequences ninds times (each as a new row)\n",
    "    arr = np.array([oseq for i in range(ninds)])\n",
    "    # define whether any given site has a mutation using a binomial distribution with probability of true 0.1\n",
    "    muts = np.random.binomial(1, 0.1, (ninds, nsites))\n",
    "    # iterate through sites and insert newbase (randomly chosen other than original value) in sites identified in muts\n",
    "    for col in range(nsites):\n",
    "        newbase = mutate(arr[0, col])\n",
    "        mask = muts[:, col].astype(bool)\n",
    "        arr[:, col][mask] = newbase\n",
    "    # make array from binomial distribution for sites to be missing\n",
    "    missing = np.random.binomial(1, 0.1, (ninds, nsites))\n",
    "    # replace value with N in sites to be missing\n",
    "    arr[missing.astype(bool)] = \"N\"\n",
    "    return arr"
   ]
  },
  {
   "cell_type": "code",
   "execution_count": 45,
   "metadata": {},
   "outputs": [
    {
     "name": "stdout",
     "output_type": "stream",
     "text": [
      "[['A' 'T' 'C' 'C' 'C' 'G' 'A' 'C' 'A' 'C' 'N' 'A' 'C' 'A' 'G']\n",
      " ['A' 'T' 'T' 'C' 'C' 'G' 'T' 'C' 'G' 'C' 'C' 'G' 'N' 'A' 'A']\n",
      " ['A' 'T' 'T' 'C' 'C' 'N' 'T' 'C' 'A' 'C' 'C' 'A' 'C' 'A' 'N']\n",
      " ['A' 'T' 'T' 'C' 'A' 'G' 'T' 'C' 'A' 'C' 'C' 'A' 'C' 'N' 'G']\n",
      " ['A' 'T' 'T' 'C' 'C' 'G' 'T' 'A' 'A' 'C' 'C' 'A' 'C' 'A' 'G']\n",
      " ['A' 'T' 'T' 'C' 'A' 'G' 'A' 'A' 'N' 'C' 'C' 'A' 'C' 'A' 'G']]\n"
     ]
    }
   ],
   "source": [
    "seqs = simulate(6, 15)\n",
    "print(seqs)"
   ]
  },
  {
   "cell_type": "markdown",
   "metadata": {},
   "source": [
    "### **Q: Describe how the `filter_missing` function works:**\n",
    "Annotate the code by inserting lines with comments as you read through the function to make sense of it. How does it find columns with missing (N) values in them? How might you mprove it?\n",
    "\n",
    "A. Summary of function: The filter missing function removes the columns that have a missing base in any row. The function does this by summing the occurances of N along  the column axis (0) and dividing that by the shape (0) which tells us the number of columns contained in the array. This tells us the fraction of sequences that had a missing base at that location. Then the function returns the array giving only columns where the frequency of missing bases is less than a specified frequency (maxfreq). \n",
    "\n",
    "It finds columns with missing values by summing the frequency of N along on the column. \n",
    "\n",
    "This could be improved by using numpy unique along a column. If it is greater than 1 we know a base was missing and can calculate the frequency by unique-1/column length. (I'm not sure if this is an improvement but it's another option)."
   ]
  },
  {
   "cell_type": "code",
   "execution_count": 46,
   "metadata": {},
   "outputs": [],
   "source": [
    "# define function to remove columns with a missing value\n",
    "def filter_missing(arr, maxfreq):\n",
    "    # calculate the fraction of rows with a missing base at that site\n",
    "    freqmissing = np.sum(arr == \"N\", axis=0) / arr.shape[0]\n",
    "    # return the array excluding the columns that had more missing than the defined threshold\n",
    "    return arr[:, freqmissing <= maxfreq]"
   ]
  },
  {
   "cell_type": "code",
   "execution_count": 47,
   "metadata": {},
   "outputs": [
    {
     "data": {
      "text/plain": [
       "array([['A', 'T', 'C', 'C', 'C', 'A', 'C', 'C', 'A'],\n",
       "       ['A', 'T', 'T', 'C', 'C', 'T', 'C', 'C', 'G'],\n",
       "       ['A', 'T', 'T', 'C', 'C', 'T', 'C', 'C', 'A'],\n",
       "       ['A', 'T', 'T', 'C', 'A', 'T', 'C', 'C', 'A'],\n",
       "       ['A', 'T', 'T', 'C', 'C', 'T', 'A', 'C', 'A'],\n",
       "       ['A', 'T', 'T', 'C', 'A', 'A', 'A', 'C', 'A']], dtype='<U1')"
      ]
     },
     "execution_count": 47,
     "metadata": {},
     "output_type": "execute_result"
    }
   ],
   "source": [
    "filter_missing(seqs, 0.1)"
   ]
  },
  {
   "cell_type": "markdown",
   "metadata": {},
   "source": [
    "### **Q: Describe how the `filter_maf` function works:**\n",
    "Annotate the code by inserting lines with comments as you read through the function to make sense of it. How does it calculate minor allele frequencies? Why does it use copy?\n",
    "\n",
    "A. It calculates minor allele frequency (maf) by taking frequencies that are greater that 0.5 and replacing them with 1-freq. It uses a copy so that the original array is not altered."
   ]
  },
  {
   "cell_type": "code",
   "execution_count": 48,
   "metadata": {},
   "outputs": [],
   "source": [
    "# define function that takes array of sequences and its mutations through time as well as minimum frequency for minor allele\n",
    "def filter_maf(arr, minfreq):\n",
    "    # calculates mutation freq (number of rows in a column that are not equal to the first row over column length)\n",
    "    freqs = np.sum(arr != arr[0], axis=0) / arr.shape[0]\n",
    "    # make a copy of the frequency sequence\n",
    "    maf = freqs.copy()\n",
    "    # select sites where the freq is over .5 and replace with 1-that value\n",
    "    maf[maf > 0.5] = 1 - maf[maf > 0.5]\n",
    "    # return the array with all rows and columns where the maf value is greater than the minfreq defined by user\n",
    "    return arr[:, maf > minfreq]"
   ]
  },
  {
   "cell_type": "code",
   "execution_count": 49,
   "metadata": {},
   "outputs": [
    {
     "data": {
      "text/plain": [
       "array([['G', 'T', 'T', 'T', 'G', 'G', 'T', 'A', 'G', 'A'],\n",
       "       ['G', 'T', 'T', 'T', 'G', 'G', 'A', 'A', 'G', 'A'],\n",
       "       ['G', 'G', 'T', 'T', 'C', 'G', 'T', 'A', 'G', 'G'],\n",
       "       ['G', 'G', 'C', 'T', 'G', 'G', 'T', 'G', 'G', 'A']], dtype='<U1')"
      ]
     },
     "execution_count": 49,
     "metadata": {},
     "output_type": "execute_result"
    }
   ],
   "source": [
    "arr"
   ]
  },
  {
   "cell_type": "code",
   "execution_count": 84,
   "metadata": {},
   "outputs": [
    {
     "ename": "TypeError",
     "evalue": "'Seqlib' object does not support indexing",
     "output_type": "error",
     "traceback": [
      "\u001b[1;31m---------------------------------------------------------------------------\u001b[0m",
      "\u001b[1;31mTypeError\u001b[0m                                 Traceback (most recent call last)",
      "\u001b[1;32m<ipython-input-84-7c4031fdef7f>\u001b[0m in \u001b[0;36m<module>\u001b[1;34m()\u001b[0m\n\u001b[1;32m----> 1\u001b[1;33m \u001b[0mfilter_maf\u001b[0m\u001b[1;33m(\u001b[0m\u001b[0mseqs\u001b[0m\u001b[1;33m,\u001b[0m \u001b[1;36m0.1\u001b[0m\u001b[1;33m)\u001b[0m\u001b[1;33m\u001b[0m\u001b[0m\n\u001b[0m",
      "\u001b[1;32m<ipython-input-48-7c13625877b5>\u001b[0m in \u001b[0;36mfilter_maf\u001b[1;34m(arr, minfreq)\u001b[0m\n\u001b[0;32m      2\u001b[0m \u001b[1;32mdef\u001b[0m \u001b[0mfilter_maf\u001b[0m\u001b[1;33m(\u001b[0m\u001b[0marr\u001b[0m\u001b[1;33m,\u001b[0m \u001b[0mminfreq\u001b[0m\u001b[1;33m)\u001b[0m\u001b[1;33m:\u001b[0m\u001b[1;33m\u001b[0m\u001b[0m\n\u001b[0;32m      3\u001b[0m     \u001b[1;31m# calculates mutation freq (number of rows in a column that are not equal to the first row over column length)\u001b[0m\u001b[1;33m\u001b[0m\u001b[1;33m\u001b[0m\u001b[0m\n\u001b[1;32m----> 4\u001b[1;33m     \u001b[0mfreqs\u001b[0m \u001b[1;33m=\u001b[0m \u001b[0mnp\u001b[0m\u001b[1;33m.\u001b[0m\u001b[0msum\u001b[0m\u001b[1;33m(\u001b[0m\u001b[0marr\u001b[0m \u001b[1;33m!=\u001b[0m \u001b[0marr\u001b[0m\u001b[1;33m[\u001b[0m\u001b[1;36m0\u001b[0m\u001b[1;33m]\u001b[0m\u001b[1;33m,\u001b[0m \u001b[0maxis\u001b[0m\u001b[1;33m=\u001b[0m\u001b[1;36m0\u001b[0m\u001b[1;33m)\u001b[0m \u001b[1;33m/\u001b[0m \u001b[0marr\u001b[0m\u001b[1;33m.\u001b[0m\u001b[0mshape\u001b[0m\u001b[1;33m[\u001b[0m\u001b[1;36m0\u001b[0m\u001b[1;33m]\u001b[0m\u001b[1;33m\u001b[0m\u001b[0m\n\u001b[0m\u001b[0;32m      5\u001b[0m     \u001b[1;31m# make a copy of the frequency sequence\u001b[0m\u001b[1;33m\u001b[0m\u001b[1;33m\u001b[0m\u001b[0m\n\u001b[0;32m      6\u001b[0m     \u001b[0mmaf\u001b[0m \u001b[1;33m=\u001b[0m \u001b[0mfreqs\u001b[0m\u001b[1;33m.\u001b[0m\u001b[0mcopy\u001b[0m\u001b[1;33m(\u001b[0m\u001b[1;33m)\u001b[0m\u001b[1;33m\u001b[0m\u001b[0m\n",
      "\u001b[1;31mTypeError\u001b[0m: 'Seqlib' object does not support indexing"
     ]
    }
   ],
   "source": [
    "filter_maf(seqs, 0.1)"
   ]
  },
  {
   "cell_type": "markdown",
   "metadata": {},
   "source": [
    "### Q: What order should these functions be applied, does it matter?\n",
    "\n",
    "A. Although the outputs are the same for the sequences tested, it makes more logical sense to do filter_maf(filter_missing(seqs, 0.1), 0.1) because this removes any missing data first before calculating the minor allele frequencies which depend on the number of differences in the column. "
   ]
  },
  {
   "cell_type": "code",
   "execution_count": 51,
   "metadata": {},
   "outputs": [
    {
     "data": {
      "text/plain": [
       "array([['C', 'C', 'A', 'C', 'A'],\n",
       "       ['T', 'C', 'T', 'C', 'G'],\n",
       "       ['T', 'C', 'T', 'C', 'A'],\n",
       "       ['T', 'A', 'T', 'C', 'A'],\n",
       "       ['T', 'C', 'T', 'A', 'A'],\n",
       "       ['T', 'A', 'A', 'A', 'A']], dtype='<U1')"
      ]
     },
     "execution_count": 51,
     "metadata": {},
     "output_type": "execute_result"
    }
   ],
   "source": [
    "filter_missing(filter_maf(seqs, 0.1), 0.1)"
   ]
  },
  {
   "cell_type": "code",
   "execution_count": 52,
   "metadata": {},
   "outputs": [
    {
     "data": {
      "text/plain": [
       "array([['C', 'C', 'A', 'C', 'A'],\n",
       "       ['T', 'C', 'T', 'C', 'G'],\n",
       "       ['T', 'C', 'T', 'C', 'A'],\n",
       "       ['T', 'A', 'T', 'C', 'A'],\n",
       "       ['T', 'C', 'T', 'A', 'A'],\n",
       "       ['T', 'A', 'A', 'A', 'A']], dtype='<U1')"
      ]
     },
     "execution_count": 52,
     "metadata": {},
     "output_type": "execute_result"
    }
   ],
   "source": [
    "filter_maf(filter_missing(seqs, 0.1), 0.1)"
   ]
  },
  {
   "cell_type": "markdown",
   "metadata": {},
   "source": [
    "### Q: Describe how `calculate_statistics()` works\n",
    "\n",
    "\n",
    "A. The function calculates the mean of the variance along each column in terms of whether the base is the same as the top row. Then it calculates (mf) the mean frequency by calculating the frequency of variation using the sum of values that do not equal the first row over the length of the column and calculating the mean (to average all columns). Inv calculates the number of mutation instances. np.any calculates whether an element is true that the base is different than the top row. Then it sums up the number of values that didn't match (the number of mutations). Var gives the number of base positions that had a mutation by finding the number of columns and subtracting the number of columns that had a mutation. Then the function prints this information along with the text explaining it as a series. "
   ]
  },
  {
   "cell_type": "code",
   "execution_count": 59,
   "metadata": {},
   "outputs": [],
   "source": [
    "def calculcate_statistics(arr):\n",
    "    nd = np.var(arr == arr[0], axis=0).mean()\n",
    "    mf = np.mean(np.sum(arr != arr[0], axis=0) / arr.shape[0])\n",
    "    inv = np.any(arr != arr[0], axis=0).sum()\n",
    "    var = arr.shape[1] - inv\n",
    "    return pd.Series(\n",
    "        {\"mean nucleotide diversity\": nd,\n",
    "         \"mean minor allele frequency\": mf,\n",
    "         \"invariant sites\": inv,\n",
    "         \"variable sites\": var,\n",
    "        })"
   ]
  },
  {
   "cell_type": "code",
   "execution_count": 60,
   "metadata": {},
   "outputs": [
    {
     "data": {
      "text/plain": [
       "invariant sites                11.000000\n",
       "mean minor allele frequency     0.288889\n",
       "mean nucleotide diversity       0.129630\n",
       "variable sites                  4.000000\n",
       "dtype: float64"
      ]
     },
     "execution_count": 60,
     "metadata": {},
     "output_type": "execute_result"
    }
   ],
   "source": [
    "calculcate_statistics(seqs)"
   ]
  },
  {
   "cell_type": "markdown",
   "metadata": {},
   "source": [
    "### Instructions: Write a `seqlib` Class object\n",
    "\n",
    "I started writing the bare bones of it below. You should write it so that it can be executed as described below to perform all of the functions we defined above, and so that its attributes can be accessed. Save this class object in a `.py` file and make it into an importable package called `seqlib`. You can write and test your object in this notebook if you like, but it must be saved separately in a `.py` file and be imported. You cannot execute the code at the end using your object defined here in the notebook. When finished save your package to GitHub as a repo just like we did with the `helloworld` package. You do not need to write a CLI script like we did for the `helloworld` package, we will only be using the Python API here. See the examples below for **how you should write your Class object**. It should be able to run in the way written below, so look at that code and think about how you would write a Class object that can do that. \n",
    "\n",
    "While you can mostly copy the functions from above, you will need to modify them slightly to access information about the Class object using *self*. For example, the `simulate()` function below takes self as a first argument and can access `self.inds` and `self.nsites` from that, so we do not need to provide those as arguments to the `simulate` function like we did above. "
   ]
  },
  {
   "cell_type": "code",
   "execution_count": 31,
   "metadata": {},
   "outputs": [],
   "source": [
    "import numpy as np\n",
    "import pandas as pd\n",
    "\n",
    "class Seqlib:\n",
    "    def __init__(self, ninds, nsites):\n",
    "        self.ninds = ninds\n",
    "        self.nsites = nsites\n",
    "        self.seqs = self.simulate()\n",
    "        # ...\n",
    "    \n",
    "    def mutate(self, base):\n",
    "        diff = set(\"ACTG\") - set(base)\n",
    "        return np.random.choice(list(diff))\n",
    "    \n",
    "    # define simulate function to simulate sequences and mutations\n",
    "    # define simulate function to simulate sequences and mutations\n",
    "    def simulate(self):\n",
    "        ninds = self.ninds\n",
    "        nsites = self.nsites\n",
    "        # create initial random sequence of length nsites\n",
    "        oseq = np.random.choice(list(\"ACGT\"), size=nsites)\n",
    "        # define an array copying the sequences ninds times (each as a new row)\n",
    "        arr = np.array([oseq for i in range(ninds)])\n",
    "        # define whether any given site has a mutation using a binomial distribution with probability of true 0.1\n",
    "        muts = np.random.binomial(1, 0.1, (ninds, nsites))\n",
    "        # iterate through sites and insert newbase (randomly chosen other than original value) in sites identified in muts\n",
    "        for col in range(nsites):\n",
    "            newbase = self.mutate(arr[0, col])\n",
    "            mask = muts[:, col].astype(bool)\n",
    "            arr[:, col][mask] = newbase\n",
    "        # make array from binomial distribution for sites to be missing\n",
    "        missing = np.random.binomial(1, 0.1, (ninds, nsites))\n",
    "        # replace value with N in sites to be missing\n",
    "        arr[missing.astype(bool)] = \"N\"\n",
    "        return arr\n",
    "    \n",
    "    # define function to remove columns with a missing value\n",
    "    def filter_missing(self, maxmissing):\n",
    "        arr = self.seqs\n",
    "        # calculate the fraction of rows with a missing base at that site\n",
    "        freqmissing = np.sum(arr == \"N\", axis=0) / arr.shape[0]\n",
    "        # return the array excluding the columns that had more missing than the defined threshold\n",
    "        return arr[:, freqmissing <= maxmissing]\n",
    "    \n",
    "    # define function that takes array of sequences and its mutations through time as well as minimum frequency for minor allele\n",
    "    def filter_maf(self, minmaf):\n",
    "       # arr = self.seqs\n",
    "        # calculates mutation freq (number of rows in a column that are not equal to the first row over column length)\n",
    "        freqs = np.sum(arr != arr[0], axis=0) / arr.shape[0]\n",
    "        # make a copy of the frequency sequence\n",
    "        maf = freqs.copy()\n",
    "        # select sites where the freq is over .5 and replace with 1-that value\n",
    "        maf[maf > 0.5] = 1 - maf[maf > 0.5]\n",
    "        # return the array with all rows and columns where the maf value is greater than the minfreq defined by user\n",
    "        return arr[:, maf > minmaf]\n",
    "    \n",
    "    # return maf as floats\n",
    "    def maf(self):\n",
    "        #arr = self.seqs()\n",
    "        # calculates mutation freq (number of rows in a column that are not equal to the first row over column length)\n",
    "        freqs = np.sum(arr != arr[0], axis=0) / arr.shape[0]\n",
    "        # make a copy of the frequency sequence\n",
    "        maf = freqs.copy()\n",
    "        # select sites where the freq is over .5 and replace with 1-that value\n",
    "        maf[maf > 0.5] = 1 - maf[maf > 0.5]\n",
    "        return freqs\n",
    "    \n",
    "    # return filtered by missing and minfreq\n",
    "    def filter(self, minmaf, maxmissing): \n",
    "        maf = self.filter_maf(self.filter_missing(maxmissing), minmaf)\n",
    "        return maf\n",
    "    \n",
    "    def calculate_statistics(self):\n",
    "        arr = self.sequence()\n",
    "        nd = np.var(arr == arr[0], axis=0).mean()\n",
    "        mf = np.mean(np.sum(arr != arr[0], axis=0) / arr.shape[0])\n",
    "        inv = np.any(arr != arr[0], axis=0).sum()\n",
    "        var = arr.shape[1] - inv\n",
    "        return pd.Series(\n",
    "            {\"mean nucleotide diversity\": nd,\n",
    "             \"mean minor allele frequency\": mf,\n",
    "             \"invariant sites\": inv,\n",
    "             \"variable sites\": var,\n",
    "            })\n",
    "    "
   ]
  },
  {
   "cell_type": "code",
   "execution_count": 32,
   "metadata": {
    "scrolled": false
   },
   "outputs": [
    {
     "name": "stdout",
     "output_type": "stream",
     "text": [
      "10 50\n"
     ]
    },
    {
     "ename": "TypeError",
     "evalue": "filter_maf() takes 2 positional arguments but 3 were given",
     "output_type": "error",
     "traceback": [
      "\u001b[1;31m---------------------------------------------------------------------------\u001b[0m",
      "\u001b[1;31mTypeError\u001b[0m                                 Traceback (most recent call last)",
      "\u001b[1;32m<ipython-input-32-577eb6857ebc>\u001b[0m in \u001b[0;36m<module>\u001b[1;34m()\u001b[0m\n\u001b[0;32m      2\u001b[0m \u001b[0mprint\u001b[0m\u001b[1;33m(\u001b[0m\u001b[0mseqs\u001b[0m\u001b[1;33m.\u001b[0m\u001b[0mninds\u001b[0m\u001b[1;33m,\u001b[0m \u001b[0mseqs\u001b[0m\u001b[1;33m.\u001b[0m\u001b[0mnsites\u001b[0m\u001b[1;33m)\u001b[0m\u001b[1;33m\u001b[0m\u001b[0m\n\u001b[0;32m      3\u001b[0m \u001b[0mseqs\u001b[0m\u001b[1;33m.\u001b[0m\u001b[0mfilter_missing\u001b[0m\u001b[1;33m(\u001b[0m\u001b[0mmaxmissing\u001b[0m\u001b[1;33m=\u001b[0m\u001b[1;36m0.1\u001b[0m\u001b[1;33m)\u001b[0m\u001b[1;33m\u001b[0m\u001b[0m\n\u001b[1;32m----> 4\u001b[1;33m \u001b[0mseqs\u001b[0m\u001b[1;33m.\u001b[0m\u001b[0mfilter\u001b[0m\u001b[1;33m(\u001b[0m\u001b[0mminmaf\u001b[0m\u001b[1;33m=\u001b[0m\u001b[1;36m0.1\u001b[0m\u001b[1;33m,\u001b[0m \u001b[0mmaxmissing\u001b[0m\u001b[1;33m=\u001b[0m\u001b[1;36m0.0\u001b[0m\u001b[1;33m)\u001b[0m\u001b[1;33m\u001b[0m\u001b[0m\n\u001b[0m",
      "\u001b[1;32m<ipython-input-31-6e25144a86e3>\u001b[0m in \u001b[0;36mfilter\u001b[1;34m(self, minmaf, maxmissing)\u001b[0m\n\u001b[0;32m     68\u001b[0m     \u001b[1;31m# return filtered by missing and minfreq\u001b[0m\u001b[1;33m\u001b[0m\u001b[1;33m\u001b[0m\u001b[0m\n\u001b[0;32m     69\u001b[0m     \u001b[1;32mdef\u001b[0m \u001b[0mfilter\u001b[0m\u001b[1;33m(\u001b[0m\u001b[0mself\u001b[0m\u001b[1;33m,\u001b[0m \u001b[0mminmaf\u001b[0m\u001b[1;33m,\u001b[0m \u001b[0mmaxmissing\u001b[0m\u001b[1;33m)\u001b[0m\u001b[1;33m:\u001b[0m\u001b[1;33m\u001b[0m\u001b[0m\n\u001b[1;32m---> 70\u001b[1;33m         \u001b[0mmaf\u001b[0m \u001b[1;33m=\u001b[0m \u001b[0mself\u001b[0m\u001b[1;33m.\u001b[0m\u001b[0mfilter_maf\u001b[0m\u001b[1;33m(\u001b[0m\u001b[0mself\u001b[0m\u001b[1;33m.\u001b[0m\u001b[0mfilter_missing\u001b[0m\u001b[1;33m(\u001b[0m\u001b[0mmaxmissing\u001b[0m\u001b[1;33m)\u001b[0m\u001b[1;33m,\u001b[0m \u001b[0mminmaf\u001b[0m\u001b[1;33m)\u001b[0m\u001b[1;33m\u001b[0m\u001b[0m\n\u001b[0m\u001b[0;32m     71\u001b[0m         \u001b[1;32mreturn\u001b[0m \u001b[0mmaf\u001b[0m\u001b[1;33m\u001b[0m\u001b[0m\n\u001b[0;32m     72\u001b[0m \u001b[1;33m\u001b[0m\u001b[0m\n",
      "\u001b[1;31mTypeError\u001b[0m: filter_maf() takes 2 positional arguments but 3 were given"
     ]
    }
   ],
   "source": [
    "seqs = Seqlib(ninds=10, nsites=50)\n",
    "print(seqs.ninds, seqs.nsites)\n",
    "seqs.filter_missing(maxmissing=0.1)\n",
    "seqs.filter(minmaf=0.1, maxmissing=0.0)"
   ]
  },
  {
   "cell_type": "markdown",
   "metadata": {},
   "source": [
    "## Test your package\n",
    "The package should be globally importable (you ran `pip install .` or `pip install -e .` to install it), and it should be able to execute the following code without error. "
   ]
  },
  {
   "cell_type": "code",
   "execution_count": null,
   "metadata": {},
   "outputs": [],
   "source": [
    "import seqlib"
   ]
  },
  {
   "cell_type": "code",
   "execution_count": null,
   "metadata": {},
   "outputs": [],
   "source": [
    "# init a Seqlib Class object\n",
    "seqs = seqlib.Seqlib(ninds=10, nsites=50)"
   ]
  },
  {
   "cell_type": "code",
   "execution_count": null,
   "metadata": {},
   "outputs": [],
   "source": [
    "# access attributes from the object\n",
    "print(seqs.ninds, seqs.nsites)"
   ]
  },
  {
   "cell_type": "code",
   "execution_count": 45,
   "metadata": {},
   "outputs": [
    {
     "data": {
      "text/plain": [
       "<bound method Seqlib.maf of <__main__.Seqlib object at 0x00000206478AEA90>>"
      ]
     },
     "execution_count": 45,
     "metadata": {},
     "output_type": "execute_result"
    }
   ],
   "source": [
    "# returns the MAF of the array as an array of floats\n",
    "seqs.maf"
   ]
  },
  {
   "cell_type": "code",
   "execution_count": 46,
   "metadata": {},
   "outputs": [
    {
     "data": {
      "text/plain": [
       "array([['A', 'G', 'A', 'A'],\n",
       "       ['A', 'G', 'A', 'A'],\n",
       "       ['A', 'G', 'A', 'A'],\n",
       "       ['A', 'G', 'A', 'A'],\n",
       "       ['A', 'G', 'A', 'A'],\n",
       "       ['G', 'G', 'A', 'A'],\n",
       "       ['G', 'G', 'A', 'A'],\n",
       "       ['A', 'G', 'T', 'T'],\n",
       "       ['G', 'A', 'T', 'A'],\n",
       "       ['G', 'A', 'A', 'T']], dtype='<U1')"
      ]
     },
     "execution_count": 46,
     "metadata": {},
     "output_type": "execute_result"
    }
   ],
   "source": [
    "# return a view of the filtered sequence array by applying a new function \n",
    "# called `filter()` that applies both the maf and missing filter functions\n",
    "seqs.filter(minmaf=0.1, maxmissing=0.0)"
   ]
  },
  {
   "cell_type": "code",
   "execution_count": 47,
   "metadata": {},
   "outputs": [
    {
     "data": {
      "text/plain": [
       "invariant sites                39.0000\n",
       "mean minor allele frequency     0.2380\n",
       "mean nucleotide diversity       0.1078\n",
       "variable sites                 11.0000\n",
       "dtype: float64"
      ]
     },
     "execution_count": 47,
     "metadata": {},
     "output_type": "execute_result"
    }
   ],
   "source": [
    "# calculate statistics for an array with the results returned as a DataFrame\n",
    "seqs.calculate_statistics()"
   ]
  },
  {
   "cell_type": "code",
   "execution_count": 40,
   "metadata": {},
   "outputs": [
    {
     "ename": "TypeError",
     "evalue": "filter() got an unexpected keyword argument 'minmaf'",
     "output_type": "error",
     "traceback": [
      "\u001b[1;31m---------------------------------------------------------------------------\u001b[0m",
      "\u001b[1;31mTypeError\u001b[0m                                 Traceback (most recent call last)",
      "\u001b[1;32m<ipython-input-40-87ab6dfb31dc>\u001b[0m in \u001b[0;36m<module>\u001b[1;34m()\u001b[0m\n\u001b[0;32m      1\u001b[0m \u001b[1;31m# calculate statistics for an array after filtering it\u001b[0m\u001b[1;33m\u001b[0m\u001b[1;33m\u001b[0m\u001b[0m\n\u001b[1;32m----> 2\u001b[1;33m \u001b[0mseqs\u001b[0m\u001b[1;33m.\u001b[0m\u001b[0mfilter\u001b[0m\u001b[1;33m(\u001b[0m\u001b[0mminmaf\u001b[0m\u001b[1;33m=\u001b[0m\u001b[1;36m0.1\u001b[0m\u001b[1;33m,\u001b[0m \u001b[0mmaxmissing\u001b[0m\u001b[1;33m=\u001b[0m\u001b[1;36m0.0\u001b[0m\u001b[1;33m)\u001b[0m\u001b[1;33m.\u001b[0m\u001b[0mcalculate_statistics\u001b[0m\u001b[1;33m(\u001b[0m\u001b[1;33m)\u001b[0m\u001b[1;33m\u001b[0m\u001b[0m\n\u001b[0m",
      "\u001b[1;31mTypeError\u001b[0m: filter() got an unexpected keyword argument 'minmaf'"
     ]
    }
   ],
   "source": [
    "# calculate statistics for an array after filtering it\n",
    "seqs.filter(minmaf=0.1, maxmissing=0.0).calculate_statistics()"
   ]
  },
  {
   "cell_type": "code",
   "execution_count": 54,
   "metadata": {},
   "outputs": [
    {
     "name": "stdout",
     "output_type": "stream",
     "text": [
      "C:\\Users\\Anika/PDSB/6-scientific-python/Notebooks/seqlib\n",
      "C:\\Users\\Anika/PDSB/6-scientific-python/Notebooks/seqlib\\seqlib\n"
     ]
    },
    {
     "ename": "NameError",
     "evalue": "name 'setup' is not defined",
     "output_type": "error",
     "traceback": [
      "\u001b[1;31m---------------------------------------------------------------------------\u001b[0m",
      "\u001b[1;31mNameError\u001b[0m                                 Traceback (most recent call last)",
      "\u001b[1;32m<ipython-input-54-931e90b58a07>\u001b[0m in \u001b[0;36m<module>\u001b[1;34m()\u001b[0m\n\u001b[0;32m     20\u001b[0m \u001b[1;31m## write setup.py file\u001b[0m\u001b[1;33m\u001b[0m\u001b[1;33m\u001b[0m\u001b[0m\n\u001b[0;32m     21\u001b[0m \u001b[1;32mwith\u001b[0m \u001b[0mopen\u001b[0m\u001b[1;33m(\u001b[0m\u001b[0mos\u001b[0m\u001b[1;33m.\u001b[0m\u001b[0mpath\u001b[0m\u001b[1;33m.\u001b[0m\u001b[0mjoin\u001b[0m\u001b[1;33m(\u001b[0m\u001b[0mprjpath\u001b[0m\u001b[1;33m,\u001b[0m \u001b[1;34m\"setup.py\"\u001b[0m\u001b[1;33m)\u001b[0m\u001b[1;33m,\u001b[0m \u001b[1;34m'w'\u001b[0m\u001b[1;33m)\u001b[0m \u001b[1;32mas\u001b[0m \u001b[0mout\u001b[0m\u001b[1;33m:\u001b[0m\u001b[1;33m\u001b[0m\u001b[0m\n\u001b[1;32m---> 22\u001b[1;33m     \u001b[0mout\u001b[0m\u001b[1;33m.\u001b[0m\u001b[0mwrite\u001b[0m\u001b[1;33m(\u001b[0m\u001b[0msetup\u001b[0m\u001b[1;33m)\u001b[0m\u001b[1;33m\u001b[0m\u001b[0m\n\u001b[0m\u001b[0;32m     23\u001b[0m \u001b[1;33m\u001b[0m\u001b[0m\n\u001b[0;32m     24\u001b[0m \u001b[1;31m## write init file\u001b[0m\u001b[1;33m\u001b[0m\u001b[1;33m\u001b[0m\u001b[0m\n",
      "\u001b[1;31mNameError\u001b[0m: name 'setup' is not defined"
     ]
    }
   ],
   "source": [
    "import os\n",
    "import sys\n",
    "\n",
    "## let's define some names that we'll use for paths\n",
    "prjname = \"seqlib\"\n",
    "pkgname = \"seqlib\"\n",
    "storeloc = os.path.expanduser(\"~/PDSB/6-scientific-python/Notebooks/\")\n",
    "\n",
    "## now let's create some joint paths with the os module\n",
    "prjpath = os.path.join(storeloc, prjname)\n",
    "pkgpath = os.path.join(storeloc, prjname, pkgname)\n",
    "\n",
    "## check out paths\n",
    "print(prjpath)\n",
    "print(pkgpath)\n",
    "\n",
    "## make the directories (exist_ok allows for it to already exist)\n",
    "os.makedirs(pkgpath, exist_ok=True)\n",
    "\n",
    "## write setup.py file\n",
    "with open(os.path.join(prjpath, \"setup.py\"), 'w') as out:\n",
    "    out.write(setup)\n",
    "\n",
    "## write init file\n",
    "with open(os.path.join(pkgpath, \"__init__.py\"), 'w') as out:\n",
    "    out.write(init)\n",
    "    \n",
    "## write script to file\n",
    "with open(os.path.join(pkgpath, \"seqlib.py\"), 'w') as out:\n",
    "    out.write(seqlib)"
   ]
  },
  {
   "cell_type": "code",
   "execution_count": null,
   "metadata": {},
   "outputs": [],
   "source": []
  }
 ],
 "metadata": {
  "kernelspec": {
   "display_name": "Python 3",
   "language": "python",
   "name": "python3"
  },
  "language_info": {
   "codemirror_mode": {
    "name": "ipython",
    "version": 3
   },
   "file_extension": ".py",
   "mimetype": "text/x-python",
   "name": "python",
   "nbconvert_exporter": "python",
   "pygments_lexer": "ipython3",
   "version": "3.6.3"
  }
 },
 "nbformat": 4,
 "nbformat_minor": 2
}
