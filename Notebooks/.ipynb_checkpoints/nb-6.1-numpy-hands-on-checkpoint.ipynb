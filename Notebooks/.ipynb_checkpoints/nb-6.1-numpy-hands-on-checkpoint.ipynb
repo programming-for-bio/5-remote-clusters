{
 "cells": [
  {
   "cell_type": "markdown",
   "metadata": {},
   "source": [
    "## Hands on usage of numpy arrays"
   ]
  },
  {
   "cell_type": "markdown",
   "metadata": {},
   "source": [
    "Before completing this notebook you should have completed your assigned reading, chapters 2-3 of the [Python Data Science Handbook](https://jakevdp.github.io/PythonDataScienceHandbook/02.00-introduction-to-numpy.html), which includes a tutorial on using the package `numpy`. We'll spend a lot of time talking about and using `numpy` because it is by far the most widely used package for scientific computing in Python, and it is incredibly powerful. Follow along with your reading and execute code in a notebook to try out the various functions and concepts that it is introducing. Here, I provide a number of additional exercises for you that have biological significance and may be more interesting. "
   ]
  },
  {
   "cell_type": "markdown",
   "metadata": {},
   "source": [
    "### Required software"
   ]
  },
  {
   "cell_type": "code",
   "execution_count": 1,
   "metadata": {},
   "outputs": [],
   "source": [
    "# conda install numpy "
   ]
  },
  {
   "cell_type": "code",
   "execution_count": 2,
   "metadata": {},
   "outputs": [],
   "source": [
    "import numpy as np\n"
   ]
  },
  {
   "cell_type": "markdown",
   "metadata": {},
   "source": [
    "### Numpy arrays\n",
    "Numpy arrays are super efficient for storing and operating on sets of values that are all of the same `type`. In fact, the datatype (dtype) becomes a very important concept which we will explore further below. "
   ]
  },
  {
   "cell_type": "markdown",
   "metadata": {},
   "source": [
    "### Modifying arrays (a copy versus a view)\n",
    "Although arrays seem similar to lists, they are in fact very different and you will likely run in to many errors early on due to this confusion. Arrays can be indexed and sliced like lists, and they are mutable, so that you can change values within an array. However, there are differences in how they retain copies of themselves. Essentially, arrays are intended to store only a single copy of itself in memory unless you tell it to make another copy by using the `.copy()` function. Otherwise, the thing that is returned to you when you perform a slice on an array is called `view`. This is simply a part of the full array, and if you modify it then you will have modified the original array as well. \n",
    "\n",
    "Lists on the other hand return a copy of themselves when you index or slice them, such that the original is unchanged if you operate on the copy. This is demonstrated below. "
   ]
  },
  {
   "cell_type": "code",
   "execution_count": 3,
   "metadata": {},
   "outputs": [
    {
     "name": "stdout",
     "output_type": "stream",
     "text": [
      "['d', 'b', 'c']\n"
     ]
    }
   ],
   "source": [
    "# mutate a list element\n",
    "ll = ['a', 'b', 'c']\n",
    "ll[0] = 'd'\n",
    "print(ll)"
   ]
  },
  {
   "cell_type": "code",
   "execution_count": 4,
   "metadata": {},
   "outputs": [
    {
     "name": "stdout",
     "output_type": "stream",
     "text": [
      "['d' 'b' 'c']\n"
     ]
    }
   ],
   "source": [
    "# mutate an array element\n",
    "arr = np.array(['a', 'b', 'c'])\n",
    "arr[0] = 'd'\n",
    "print(arr)"
   ]
  },
  {
   "cell_type": "code",
   "execution_count": 5,
   "metadata": {},
   "outputs": [
    {
     "name": "stdout",
     "output_type": "stream",
     "text": [
      "['e', 'b', 'c'] ['d', 'b', 'c']\n"
     ]
    }
   ],
   "source": [
    "# mutate a copy and both exist as separate instances\n",
    "lc = ll.copy()\n",
    "lc[0] = 'e'\n",
    "print(lc, ll)"
   ]
  },
  {
   "cell_type": "code",
   "execution_count": 6,
   "metadata": {},
   "outputs": [
    {
     "name": "stdout",
     "output_type": "stream",
     "text": [
      "['e' 'b' 'c'] ['d' 'b' 'c']\n"
     ]
    }
   ],
   "source": [
    "# same with arrays\n",
    "carr = arr.copy()\n",
    "carr[0] = 'e'\n",
    "print(carr, arr)"
   ]
  },
  {
   "cell_type": "code",
   "execution_count": 7,
   "metadata": {},
   "outputs": [
    {
     "name": "stdout",
     "output_type": "stream",
     "text": [
      "['x', 'b'] ['d', 'b', 'c']\n"
     ]
    }
   ],
   "source": [
    "# but different for index/slicing: a list returns a copy\n",
    "lsub = ll[:2]\n",
    "lsub[0] = 'x'\n",
    "print(lsub, ll)"
   ]
  },
  {
   "cell_type": "code",
   "execution_count": 8,
   "metadata": {},
   "outputs": [
    {
     "name": "stdout",
     "output_type": "stream",
     "text": [
      "['x' 'b'] ['x' 'b' 'c']\n"
     ]
    }
   ],
   "source": [
    "# but arrays return a view (part of the same copy)\n",
    "asub = arr[:2]\n",
    "asub[0] = 'x'\n",
    "print(asub, arr)"
   ]
  },
  {
   "cell_type": "code",
   "execution_count": 9,
   "metadata": {},
   "outputs": [
    {
     "name": "stdout",
     "output_type": "stream",
     "text": [
      "['y' 'b'] ['x' 'b' 'c']\n"
     ]
    }
   ],
   "source": [
    "# to edit only a copy of it you must explicitly use copy()\n",
    "asub = arr[:2].copy()\n",
    "asub[0] = 'y'\n",
    "print(asub, arr)"
   ]
  },
  {
   "cell_type": "markdown",
   "metadata": {},
   "source": [
    "## Genomic sequence data as an array\n",
    "The string characters A,C,G,T can be sampled in an array to represent a sequence of DNA. Here we use the `.random` module of numpy, which is similar to the `.random` package from the standard library, but much more powerful, as it return arrays and has many more scientific methods for sampling random distributions, as we'll see. The array of sequence data in this case is six rows and 12 columns, or in other words, we have data for 6 haploid individuals for 12 sites of DNA. "
   ]
  },
  {
   "cell_type": "code",
   "execution_count": 10,
   "metadata": {},
   "outputs": [],
   "source": [
    "np.random.seed(12345)                                        # init a random seed\n",
    "seq = np.random.choice(list(\"ACGT\"), size=12, replace=True)  # make array that is 12 bases long\n",
    "seqs = np.array([seq]*6)                                     # make 6 copies of arr"
   ]
  },
  {
   "cell_type": "code",
   "execution_count": 11,
   "metadata": {},
   "outputs": [
    {
     "name": "stdout",
     "output_type": "stream",
     "text": [
      "[['G' 'C' 'C' 'C' 'A' 'C' 'G' 'G' 'C' 'G' 'C' 'C']\n",
      " ['G' 'C' 'C' 'C' 'A' 'C' 'G' 'G' 'C' 'G' 'C' 'C']\n",
      " ['G' 'C' 'C' 'C' 'A' 'C' 'G' 'G' 'C' 'G' 'C' 'C']\n",
      " ['G' 'C' 'C' 'C' 'A' 'C' 'G' 'G' 'C' 'G' 'C' 'C']\n",
      " ['G' 'C' 'C' 'C' 'A' 'C' 'G' 'G' 'C' 'G' 'C' 'C']\n",
      " ['G' 'C' 'C' 'C' 'A' 'C' 'G' 'G' 'C' 'G' 'C' 'C']]\n"
     ]
    }
   ],
   "source": [
    "print(seqs)"
   ]
  },
  {
   "cell_type": "markdown",
   "metadata": {},
   "source": [
    "### Fancy indexing"
   ]
  },
  {
   "cell_type": "code",
   "execution_count": 12,
   "metadata": {},
   "outputs": [
    {
     "data": {
      "text/plain": [
       "array([['G', 'C', 'C', 'C', 'A', 'C', 'G', 'G', 'C', 'G', 'C', 'C'],\n",
       "       ['G', 'C', 'C', 'C', 'A', 'C', 'G', 'G', 'C', 'G', 'C', 'C'],\n",
       "       ['G', 'C', 'C', 'C', 'A', 'C', 'G', 'G', 'C', 'G', 'C', 'C'],\n",
       "       ['G', 'C', 'C', 'C', 'A', 'C', 'G', 'G', 'C', 'G', 'C', 'C']],\n",
       "      dtype='<U1')"
      ]
     },
     "execution_count": 12,
     "metadata": {},
     "output_type": "execute_result"
    }
   ],
   "source": [
    "# select the first four rows\n",
    "seqs[:4, :]"
   ]
  },
  {
   "cell_type": "code",
   "execution_count": 13,
   "metadata": {},
   "outputs": [
    {
     "data": {
      "text/plain": [
       "array([['G', 'G', 'C', 'G', 'C', 'C'],\n",
       "       ['G', 'G', 'C', 'G', 'C', 'C'],\n",
       "       ['G', 'G', 'C', 'G', 'C', 'C'],\n",
       "       ['G', 'G', 'C', 'G', 'C', 'C'],\n",
       "       ['G', 'G', 'C', 'G', 'C', 'C'],\n",
       "       ['G', 'G', 'C', 'G', 'C', 'C']], dtype='<U1')"
      ]
     },
     "execution_count": 13,
     "metadata": {},
     "output_type": "execute_result"
    }
   ],
   "source": [
    "# select the last six columns\n",
    "seqs[:, -6:]"
   ]
  },
  {
   "cell_type": "code",
   "execution_count": 14,
   "metadata": {},
   "outputs": [
    {
     "data": {
      "text/plain": [
       "array([['G', 'C', 'C', 'C'],\n",
       "       ['G', 'C', 'C', 'C']], dtype='<U1')"
      ]
     },
     "execution_count": 14,
     "metadata": {},
     "output_type": "execute_result"
    }
   ],
   "source": [
    "# select first two rows and first four columns\n",
    "seqs[:2, :4]"
   ]
  },
  {
   "cell_type": "code",
   "execution_count": 15,
   "metadata": {},
   "outputs": [
    {
     "data": {
      "text/plain": [
       "array([[ True, False, False, False, False, False,  True,  True, False,\n",
       "         True, False, False],\n",
       "       [ True, False, False, False, False, False,  True,  True, False,\n",
       "         True, False, False],\n",
       "       [ True, False, False, False, False, False,  True,  True, False,\n",
       "         True, False, False],\n",
       "       [ True, False, False, False, False, False,  True,  True, False,\n",
       "         True, False, False],\n",
       "       [ True, False, False, False, False, False,  True,  True, False,\n",
       "         True, False, False],\n",
       "       [ True, False, False, False, False, False,  True,  True, False,\n",
       "         True, False, False]])"
      ]
     },
     "execution_count": 15,
     "metadata": {},
     "output_type": "execute_result"
    }
   ],
   "source": [
    "# create boolean mask of whether element is \"G\"\n",
    "seqs == \"G\""
   ]
  },
  {
   "cell_type": "code",
   "execution_count": 16,
   "metadata": {},
   "outputs": [
    {
     "data": {
      "text/plain": [
       "array([[1, 0, 0, 0, 0, 0, 1, 1, 0, 1, 0, 0],\n",
       "       [1, 0, 0, 0, 0, 0, 1, 1, 0, 1, 0, 0],\n",
       "       [1, 0, 0, 0, 0, 0, 1, 1, 0, 1, 0, 0],\n",
       "       [1, 0, 0, 0, 0, 0, 1, 1, 0, 1, 0, 0],\n",
       "       [1, 0, 0, 0, 0, 0, 1, 1, 0, 1, 0, 0],\n",
       "       [1, 0, 0, 0, 0, 0, 1, 1, 0, 1, 0, 0]], dtype=int8)"
      ]
     },
     "execution_count": 16,
     "metadata": {},
     "output_type": "execute_result"
    }
   ],
   "source": [
    "# view the array as int8 values (easier to read than True/False)\n",
    "np.int8(seqs == \"G\")"
   ]
  },
  {
   "cell_type": "code",
   "execution_count": 17,
   "metadata": {},
   "outputs": [
    {
     "data": {
      "text/plain": [
       "array([ True, False, False, False, False, False,  True,  True, False,\n",
       "        True, False, False])"
      ]
     },
     "execution_count": 17,
     "metadata": {},
     "output_type": "execute_result"
    }
   ],
   "source": [
    "# create boolean mask for whether any sites in a column are \"G\"\n",
    "np.any(seqs == \"G\", axis=0)"
   ]
  },
  {
   "cell_type": "markdown",
   "metadata": {},
   "source": [
    "# Generate variable sequence data\n",
    "\n",
    "Don't worry too much about this function for right now, we'll dive into it in detail in the next notebook. For now we'll just use it to generate variable sequence data. "
   ]
  },
  {
   "cell_type": "code",
   "execution_count": 18,
   "metadata": {},
   "outputs": [],
   "source": [
    "def seqdata(ninds, nsites):\n",
    "    # make sequence data \n",
    "    oseq = np.random.choice(list(\"ACGT\"), size=nsites)\n",
    "    arr = np.array([oseq for i in range(ninds)])\n",
    "    \n",
    "    # introduce some mutataions\n",
    "    muts = np.random.binomial(1, 0.1, (ninds, nsites))\n",
    "    for col in range(nsites):\n",
    "        newbase = np.random.choice(list(set(\"ACTG\") - set(arr[0, col])))\n",
    "        mask = muts[:, col].astype(bool)\n",
    "        arr[:, col][mask] = newbase\n",
    "    return arr"
   ]
  },
  {
   "cell_type": "code",
   "execution_count": 19,
   "metadata": {},
   "outputs": [
    {
     "name": "stdout",
     "output_type": "stream",
     "text": [
      "[['G' 'T' 'G' 'G' 'A' 'G' 'G' 'C' 'T' 'G']\n",
      " ['G' 'C' 'G' 'G' 'A' 'G' 'G' 'C' 'T' 'G']\n",
      " ['G' 'C' 'G' 'G' 'A' 'G' 'G' 'C' 'T' 'G']\n",
      " ['G' 'C' 'G' 'C' 'A' 'G' 'G' 'C' 'T' 'G']\n",
      " ['G' 'C' 'A' 'G' 'A' 'G' 'G' 'C' 'T' 'G']\n",
      " ['G' 'C' 'G' 'G' 'A' 'G' 'G' 'C' 'T' 'G']\n",
      " ['G' 'C' 'G' 'G' 'A' 'G' 'G' 'C' 'T' 'G']\n",
      " ['G' 'C' 'G' 'G' 'A' 'G' 'G' 'C' 'T' 'A']]\n"
     ]
    }
   ],
   "source": [
    "# generate an array of variable sequence data\n",
    "np.random.seed(123)\n",
    "arr = seqdata(8, 10)\n",
    "print(arr)"
   ]
  },
  {
   "cell_type": "markdown",
   "metadata": {},
   "source": [
    "### Find variable sites\n",
    "Here we can use a broadcasting method to compare sequences to find if there is any variation in the sequences. We could examine each columns individually and count the number of elements in it, but a much easier way is to simply perform on operation over an `axis` of the array that will return True or False depending on whether there is variation. One way is to simply compare each column to the value in the first row. Broadcasting will allow this to work so that across all rows each value in each column is compared to its respective first row element. "
   ]
  },
  {
   "cell_type": "code",
   "execution_count": 20,
   "metadata": {},
   "outputs": [
    {
     "name": "stdout",
     "output_type": "stream",
     "text": [
      "[[False False False False False False False False False False]\n",
      " [False  True False False False False False False False False]\n",
      " [False  True False False False False False False False False]\n",
      " [False  True False  True False False False False False False]\n",
      " [False  True  True False False False False False False False]\n",
      " [False  True False False False False False False False False]\n",
      " [False  True False False False False False False False False]\n",
      " [False  True False False False False False False False  True]]\n"
     ]
    }
   ],
   "source": [
    "# ask which sites are variable\n",
    "print(arr != arr[0])"
   ]
  },
  {
   "cell_type": "code",
   "execution_count": 21,
   "metadata": {},
   "outputs": [
    {
     "data": {
      "text/plain": [
       "array([False,  True,  True,  True, False, False, False, False, False,\n",
       "        True])"
      ]
     },
     "execution_count": 21,
     "metadata": {},
     "output_type": "execute_result"
    }
   ],
   "source": [
    "# broadcast with any() to get columns (sites) that are variable\n",
    "np.any(arr != arr[0], axis=0)"
   ]
  },
  {
   "cell_type": "markdown",
   "metadata": {},
   "source": [
    "## Filtering and calculating population genetic statistics\n",
    "\n",
    "Often we are interested in filtering sequence data based on some criterion before we calculate statistics on it. Examples would be filtering to remove sites with missing data (often coded in DNA by the character `N`), or filtering to remove sites with rare alleles (if its found in very few individuals it may just be an error). The latter is often applied with a filter called a minor allele frequency (MAF). Let's practice calculating the minor allele frequency and filtering based on it. "
   ]
  },
  {
   "cell_type": "code",
   "execution_count": 22,
   "metadata": {},
   "outputs": [
    {
     "name": "stdout",
     "output_type": "stream",
     "text": [
      "[['G' 'T' 'C' 'C' 'A' 'C' 'T' 'G' 'C' 'G']\n",
      " ['G' 'C' 'C' 'A' 'A' 'C' 'G' 'G' 'C' 'G']\n",
      " ['G' 'T' 'C' 'C' 'A' 'C' 'G' 'C' 'C' 'G']\n",
      " ['G' 'C' 'C' 'C' 'A' 'C' 'G' 'G' 'C' 'G']\n",
      " ['G' 'C' 'C' 'C' 'A' 'C' 'G' 'G' 'A' 'G']\n",
      " ['G' 'C' 'C' 'C' 'G' 'C' 'G' 'G' 'C' 'G']\n",
      " ['G' 'C' 'C' 'A' 'A' 'C' 'G' 'G' 'C' 'G']\n",
      " ['G' 'C' 'C' 'C' 'G' 'A' 'G' 'G' 'C' 'G']\n",
      " ['G' 'C' 'C' 'C' 'A' 'C' 'G' 'G' 'A' 'G']\n",
      " ['T' 'C' 'C' 'C' 'A' 'C' 'G' 'G' 'C' 'G']\n",
      " ['G' 'C' 'C' 'C' 'A' 'C' 'G' 'C' 'C' 'G']\n",
      " ['T' 'C' 'C' 'C' 'A' 'A' 'G' 'G' 'C' 'G']\n",
      " ['T' 'C' 'C' 'C' 'A' 'C' 'G' 'G' 'C' 'G']\n",
      " ['G' 'C' 'G' 'C' 'A' 'C' 'G' 'G' 'C' 'G']\n",
      " ['G' 'C' 'C' 'C' 'A' 'C' 'G' 'G' 'C' 'G']\n",
      " ['T' 'C' 'G' 'C' 'A' 'C' 'G' 'G' 'C' 'G']]\n"
     ]
    }
   ],
   "source": [
    "# generate a larger array of variable sequence data\n",
    "np.random.seed(12345)\n",
    "arr = seqdata(16, 10)\n",
    "print(arr)"
   ]
  },
  {
   "cell_type": "markdown",
   "metadata": {},
   "source": [
    "### calculate the frequency of the rare allele in each column\n",
    "Let's think about how to do this. First, we need to find the sites that are variable in each column, then we need to find a way to count them, and then divide by the length of the column to get the value as a frequency. Well, all of this information is present in the operations we performed above to find the variable sites. Let's use that same framework here. "
   ]
  },
  {
   "cell_type": "markdown",
   "metadata": {},
   "source": [
    "#### 1. view which sites are variable?"
   ]
  },
  {
   "cell_type": "code",
   "execution_count": 26,
   "metadata": {},
   "outputs": [
    {
     "data": {
      "text/plain": [
       "array([[0, 0, 0, 0, 0, 0, 0, 0, 0, 0],\n",
       "       [0, 1, 0, 1, 0, 0, 1, 0, 0, 0],\n",
       "       [0, 0, 0, 0, 0, 0, 1, 1, 0, 0],\n",
       "       [0, 1, 0, 0, 0, 0, 1, 0, 0, 0],\n",
       "       [0, 1, 0, 0, 0, 0, 1, 0, 1, 0],\n",
       "       [0, 1, 0, 0, 1, 0, 1, 0, 0, 0],\n",
       "       [0, 1, 0, 1, 0, 0, 1, 0, 0, 0],\n",
       "       [0, 1, 0, 0, 1, 1, 1, 0, 0, 0],\n",
       "       [0, 1, 0, 0, 0, 0, 1, 0, 1, 0],\n",
       "       [1, 1, 0, 0, 0, 0, 1, 0, 0, 0],\n",
       "       [0, 1, 0, 0, 0, 0, 1, 1, 0, 0],\n",
       "       [1, 1, 0, 0, 0, 1, 1, 0, 0, 0],\n",
       "       [1, 1, 0, 0, 0, 0, 1, 0, 0, 0],\n",
       "       [0, 1, 1, 0, 0, 0, 1, 0, 0, 0],\n",
       "       [0, 1, 0, 0, 0, 0, 1, 0, 0, 0],\n",
       "       [1, 1, 1, 0, 0, 0, 1, 0, 0, 0]], dtype=int8)"
      ]
     },
     "execution_count": 26,
     "metadata": {},
     "output_type": "execute_result"
    }
   ],
   "source": [
    "# view boolean mask as int8s\n",
    "np.int8(arr != arr[0])\n",
    "\n",
    "#make matrix of true/false whether it is different, use int8 to convert false to true"
   ]
  },
  {
   "cell_type": "code",
   "execution_count": 30,
   "metadata": {},
   "outputs": [
    {
     "data": {
      "text/plain": [
       "array(['G', 'T', 'C', 'C', 'A', 'C', 'T', 'G', 'C', 'G'], dtype='<U1')"
      ]
     },
     "execution_count": 30,
     "metadata": {},
     "output_type": "execute_result"
    }
   ],
   "source": [
    "arr[0]"
   ]
  },
  {
   "cell_type": "markdown",
   "metadata": {},
   "source": [
    "#### 2. get each column as a frequency"
   ]
  },
  {
   "cell_type": "code",
   "execution_count": 31,
   "metadata": {},
   "outputs": [
    {
     "data": {
      "text/plain": [
       "array([0.25  , 0.875 , 0.125 , 0.125 , 0.125 , 0.125 , 0.9375, 0.125 ,\n",
       "       0.125 , 0.    ])"
      ]
     },
     "execution_count": 31,
     "metadata": {},
     "output_type": "execute_result"
    }
   ],
   "source": [
    "# sum True values and divide by len of columns (shape[0]) to get frequency\n",
    "np.sum(arr != arr[0], axis=0) / arr.shape[0]\n",
    "\n",
    "#arr.shape[0] tells you how many rows there are\n",
    "#the sum adds the falses across the column"
   ]
  },
  {
   "cell_type": "code",
   "execution_count": 35,
   "metadata": {},
   "outputs": [
    {
     "data": {
      "text/plain": [
       "array([['G', 'T', 'C', 'C', 'A', 'C', 'T', 'G', 'C', 'G'],\n",
       "       ['G', 'C', 'C', 'A', 'A', 'C', 'G', 'G', 'C', 'G'],\n",
       "       ['G', 'T', 'C', 'C', 'A', 'C', 'G', 'C', 'C', 'G'],\n",
       "       ['G', 'C', 'C', 'C', 'A', 'C', 'G', 'G', 'C', 'G'],\n",
       "       ['G', 'C', 'C', 'C', 'A', 'C', 'G', 'G', 'A', 'G'],\n",
       "       ['G', 'C', 'C', 'C', 'G', 'C', 'G', 'G', 'C', 'G'],\n",
       "       ['G', 'C', 'C', 'A', 'A', 'C', 'G', 'G', 'C', 'G'],\n",
       "       ['G', 'C', 'C', 'C', 'G', 'A', 'G', 'G', 'C', 'G'],\n",
       "       ['G', 'C', 'C', 'C', 'A', 'C', 'G', 'G', 'A', 'G'],\n",
       "       ['T', 'C', 'C', 'C', 'A', 'C', 'G', 'G', 'C', 'G'],\n",
       "       ['G', 'C', 'C', 'C', 'A', 'C', 'G', 'C', 'C', 'G'],\n",
       "       ['T', 'C', 'C', 'C', 'A', 'A', 'G', 'G', 'C', 'G'],\n",
       "       ['T', 'C', 'C', 'C', 'A', 'C', 'G', 'G', 'C', 'G'],\n",
       "       ['G', 'C', 'G', 'C', 'A', 'C', 'G', 'G', 'C', 'G'],\n",
       "       ['G', 'C', 'C', 'C', 'A', 'C', 'G', 'G', 'C', 'G'],\n",
       "       ['T', 'C', 'G', 'C', 'A', 'C', 'G', 'G', 'C', 'G']], dtype='<U1')"
      ]
     },
     "execution_count": 35,
     "metadata": {},
     "output_type": "execute_result"
    }
   ],
   "source": [
    "np.sum(arr != arr[0], axis=0)\n",
    "arr.shape[0]\n",
    "arr"
   ]
  },
  {
   "cell_type": "markdown",
   "metadata": {},
   "source": [
    "#### 3. to get the minor allele frequency, take 1-value if freq > 0.5"
   ]
  },
  {
   "cell_type": "code",
   "execution_count": 36,
   "metadata": {},
   "outputs": [
    {
     "name": "stdout",
     "output_type": "stream",
     "text": [
      "[0.25   0.125  0.125  0.125  0.125  0.125  0.0625 0.125  0.125  0.    ]\n"
     ]
    }
   ],
   "source": [
    "# store view from above cell\n",
    "freqs = np.sum(arr != arr[0], axis=0) / arr.shape[0]\n",
    "\n",
    "# store a copy so we do not modify the original array 'arr'\n",
    "maf = freqs.copy()\n",
    "\n",
    "# subselect sites with major freq (>0.5) and modify to be 1-value\n",
    "maf[maf > 0.5] = 1 - maf[maf > 0.5]\n",
    "\n",
    "# print minor allele frequencies\n",
    "print(maf)"
   ]
  },
  {
   "cell_type": "markdown",
   "metadata": {},
   "source": [
    "#### 4. filter columns of the array by MAF\n",
    "For our analyses we might only want to analyze sites with a MAF > 0.1. This excludes two sites from the original array, one that was not variable and one that was variable at only a single haplotype. "
   ]
  },
  {
   "cell_type": "code",
   "execution_count": 37,
   "metadata": {},
   "outputs": [
    {
     "name": "stdout",
     "output_type": "stream",
     "text": [
      "[['G' 'T' 'C' 'C' 'A' 'C' 'G' 'C']\n",
      " ['G' 'C' 'C' 'A' 'A' 'C' 'G' 'C']\n",
      " ['G' 'T' 'C' 'C' 'A' 'C' 'C' 'C']\n",
      " ['G' 'C' 'C' 'C' 'A' 'C' 'G' 'C']\n",
      " ['G' 'C' 'C' 'C' 'A' 'C' 'G' 'A']\n",
      " ['G' 'C' 'C' 'C' 'G' 'C' 'G' 'C']\n",
      " ['G' 'C' 'C' 'A' 'A' 'C' 'G' 'C']\n",
      " ['G' 'C' 'C' 'C' 'G' 'A' 'G' 'C']\n",
      " ['G' 'C' 'C' 'C' 'A' 'C' 'G' 'A']\n",
      " ['T' 'C' 'C' 'C' 'A' 'C' 'G' 'C']\n",
      " ['G' 'C' 'C' 'C' 'A' 'C' 'C' 'C']\n",
      " ['T' 'C' 'C' 'C' 'A' 'A' 'G' 'C']\n",
      " ['T' 'C' 'C' 'C' 'A' 'C' 'G' 'C']\n",
      " ['G' 'C' 'G' 'C' 'A' 'C' 'G' 'C']\n",
      " ['G' 'C' 'C' 'C' 'A' 'C' 'G' 'C']\n",
      " ['T' 'C' 'G' 'C' 'A' 'C' 'G' 'C']]\n"
     ]
    }
   ],
   "source": [
    "print(arr[:, maf > 0.1])"
   ]
  },
  {
   "cell_type": "code",
   "execution_count": null,
   "metadata": {},
   "outputs": [],
   "source": []
  }
 ],
 "metadata": {
  "kernelspec": {
   "display_name": "Python 3",
   "language": "python",
   "name": "python3"
  },
  "language_info": {
   "codemirror_mode": {
    "name": "ipython",
    "version": 3
   },
   "file_extension": ".py",
   "mimetype": "text/x-python",
   "name": "python",
   "nbconvert_exporter": "python",
   "pygments_lexer": "ipython3",
   "version": "3.6.3"
  }
 },
 "nbformat": 4,
 "nbformat_minor": 2
}
